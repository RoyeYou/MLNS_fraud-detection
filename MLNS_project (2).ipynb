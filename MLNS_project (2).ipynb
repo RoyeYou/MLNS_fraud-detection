{
  "nbformat": 4,
  "nbformat_minor": 0,
  "metadata": {
    "colab": {
      "provenance": []
    },
    "kernelspec": {
      "name": "python3",
      "display_name": "Python 3"
    },
    "language_info": {
      "name": "python"
    }
  },
  "cells": [
    {
      "cell_type": "code",
      "execution_count": 1,
      "metadata": {
        "id": "_C6zFPd_2FXu"
      },
      "outputs": [],
      "source": [
        "import os\n",
        "import networkx as nx\n",
        "import pandas as pd\n",
        "import numpy as np\n",
        "import random\n",
        "import itertools\n",
        "import math\n",
        "import random\n",
        "from gensim.models import Word2Vec\n",
        "import matplotlib.pyplot as plt\n",
        "%matplotlib inline\n",
        "from tqdm import tqdm\n",
        "from sklearn.model_selection import train_test_split\n",
        "from sklearn.metrics import accuracy_score\n",
        "from sklearn.linear_model import LogisticRegression\n",
        "from sklearn.metrics import confusion_matrix"
      ]
    },
    {
      "cell_type": "code",
      "source": [
        "from google.colab import drive\n",
        "drive=drive.mount('/content/drive')"
      ],
      "metadata": {
        "colab": {
          "base_uri": "https://localhost:8080/"
        },
        "id": "FluOwn-Y2gCM",
        "outputId": "1272a3c3-1e56-4211-b210-bb7738bae9e0"
      },
      "execution_count": 2,
      "outputs": [
        {
          "output_type": "stream",
          "name": "stdout",
          "text": [
            "Drive already mounted at /content/drive; to attempt to forcibly remount, call drive.mount(\"/content/drive\", force_remount=True).\n"
          ]
        }
      ]
    },
    {
      "cell_type": "code",
      "source": [
        "# Access to the dataset\n",
        "data = pd.read_csv('/content/drive/MyDrive/T2_MLNS/MLNS_Project/PS_20174392719_1491204439457_log.csv')\n",
        "\n",
        "# Columns\n",
        "# step - maps a unit of time in the real world. In this case 1 step is 1 hour of time. Total steps 744 (30 days simulation).\n",
        "# type - CASH-IN, CASH-OUT, DEBIT, PAYMENT and TRANSFER.\n",
        "# amount -amount of the transaction in local currency.\n",
        "# nameOrig - customer who started the transaction\n",
        "# oldbalanceOrg - initial balance before the transaction\n",
        "# newbalanceOrig - new balance after the transaction\n",
        "# nameDest - customer who is the recipient of the transaction\n",
        "# oldbalanceDest - initial balance recipient before the transaction. Note that there is not information for customers that start with M (Merchants).\n",
        "# newbalanceDest - new balance recipient after the transaction. Note that there is not information for customers that start with M (Merchants).\n",
        "# isFraud - This is the transactions made by the fraudulent agents inside the simulation. In this specific dataset the fraudulent behavior of the agents aims to profit by taking control or customers accounts and try to empty the funds by transferring to another account and then cashing out of the system.\n",
        "# isFlaggedFraud - The business model aims to control massive transfers from one account to another and flags illegal attempts. An illegal attempt in this dataset is an attempt to transfer more than 200.000 in a single transaction."
      ],
      "metadata": {
        "id": "8gsIAuUR2od1"
      },
      "execution_count": 3,
      "outputs": []
    },
    {
      "cell_type": "code",
      "source": [
        "data.head(10)"
      ],
      "metadata": {
        "colab": {
          "base_uri": "https://localhost:8080/",
          "height": 363
        },
        "id": "uIDfppsG21GO",
        "outputId": "a2513ba2-69da-4f75-acf2-50a028c291d6"
      },
      "execution_count": 38,
      "outputs": [
        {
          "output_type": "execute_result",
          "data": {
            "text/plain": [
              "   step      type    amount     nameOrig  oldbalanceOrg  newbalanceOrig  \\\n",
              "0     1   PAYMENT   9839.64  C1231006815      170136.00       160296.36   \n",
              "1     1   PAYMENT   1864.28  C1666544295       21249.00        19384.72   \n",
              "2     1  TRANSFER    181.00  C1305486145         181.00            0.00   \n",
              "3     1  CASH_OUT    181.00   C840083671         181.00            0.00   \n",
              "4     1   PAYMENT  11668.14  C2048537720       41554.00        29885.86   \n",
              "5     1   PAYMENT   7817.71    C90045638       53860.00        46042.29   \n",
              "6     1   PAYMENT   7107.77   C154988899      183195.00       176087.23   \n",
              "7     1   PAYMENT   7861.64  C1912850431      176087.23       168225.59   \n",
              "8     1   PAYMENT   4024.36  C1265012928        2671.00            0.00   \n",
              "9     1     DEBIT   5337.77   C712410124       41720.00        36382.23   \n",
              "\n",
              "      nameDest  oldbalanceDest  newbalanceDest  isFraud  isFlaggedFraud  \n",
              "0  M1979787155             0.0            0.00        0               0  \n",
              "1  M2044282225             0.0            0.00        0               0  \n",
              "2   C553264065             0.0            0.00        1               0  \n",
              "3    C38997010         21182.0            0.00        1               0  \n",
              "4  M1230701703             0.0            0.00        0               0  \n",
              "5   M573487274             0.0            0.00        0               0  \n",
              "6   M408069119             0.0            0.00        0               0  \n",
              "7   M633326333             0.0            0.00        0               0  \n",
              "8  M1176932104             0.0            0.00        0               0  \n",
              "9   C195600860         41898.0        40348.79        0               0  "
            ],
            "text/html": [
              "\n",
              "  <div id=\"df-d9160920-9c47-4b21-9e3a-c9db994e09da\">\n",
              "    <div class=\"colab-df-container\">\n",
              "      <div>\n",
              "<style scoped>\n",
              "    .dataframe tbody tr th:only-of-type {\n",
              "        vertical-align: middle;\n",
              "    }\n",
              "\n",
              "    .dataframe tbody tr th {\n",
              "        vertical-align: top;\n",
              "    }\n",
              "\n",
              "    .dataframe thead th {\n",
              "        text-align: right;\n",
              "    }\n",
              "</style>\n",
              "<table border=\"1\" class=\"dataframe\">\n",
              "  <thead>\n",
              "    <tr style=\"text-align: right;\">\n",
              "      <th></th>\n",
              "      <th>step</th>\n",
              "      <th>type</th>\n",
              "      <th>amount</th>\n",
              "      <th>nameOrig</th>\n",
              "      <th>oldbalanceOrg</th>\n",
              "      <th>newbalanceOrig</th>\n",
              "      <th>nameDest</th>\n",
              "      <th>oldbalanceDest</th>\n",
              "      <th>newbalanceDest</th>\n",
              "      <th>isFraud</th>\n",
              "      <th>isFlaggedFraud</th>\n",
              "    </tr>\n",
              "  </thead>\n",
              "  <tbody>\n",
              "    <tr>\n",
              "      <th>0</th>\n",
              "      <td>1</td>\n",
              "      <td>PAYMENT</td>\n",
              "      <td>9839.64</td>\n",
              "      <td>C1231006815</td>\n",
              "      <td>170136.00</td>\n",
              "      <td>160296.36</td>\n",
              "      <td>M1979787155</td>\n",
              "      <td>0.0</td>\n",
              "      <td>0.00</td>\n",
              "      <td>0</td>\n",
              "      <td>0</td>\n",
              "    </tr>\n",
              "    <tr>\n",
              "      <th>1</th>\n",
              "      <td>1</td>\n",
              "      <td>PAYMENT</td>\n",
              "      <td>1864.28</td>\n",
              "      <td>C1666544295</td>\n",
              "      <td>21249.00</td>\n",
              "      <td>19384.72</td>\n",
              "      <td>M2044282225</td>\n",
              "      <td>0.0</td>\n",
              "      <td>0.00</td>\n",
              "      <td>0</td>\n",
              "      <td>0</td>\n",
              "    </tr>\n",
              "    <tr>\n",
              "      <th>2</th>\n",
              "      <td>1</td>\n",
              "      <td>TRANSFER</td>\n",
              "      <td>181.00</td>\n",
              "      <td>C1305486145</td>\n",
              "      <td>181.00</td>\n",
              "      <td>0.00</td>\n",
              "      <td>C553264065</td>\n",
              "      <td>0.0</td>\n",
              "      <td>0.00</td>\n",
              "      <td>1</td>\n",
              "      <td>0</td>\n",
              "    </tr>\n",
              "    <tr>\n",
              "      <th>3</th>\n",
              "      <td>1</td>\n",
              "      <td>CASH_OUT</td>\n",
              "      <td>181.00</td>\n",
              "      <td>C840083671</td>\n",
              "      <td>181.00</td>\n",
              "      <td>0.00</td>\n",
              "      <td>C38997010</td>\n",
              "      <td>21182.0</td>\n",
              "      <td>0.00</td>\n",
              "      <td>1</td>\n",
              "      <td>0</td>\n",
              "    </tr>\n",
              "    <tr>\n",
              "      <th>4</th>\n",
              "      <td>1</td>\n",
              "      <td>PAYMENT</td>\n",
              "      <td>11668.14</td>\n",
              "      <td>C2048537720</td>\n",
              "      <td>41554.00</td>\n",
              "      <td>29885.86</td>\n",
              "      <td>M1230701703</td>\n",
              "      <td>0.0</td>\n",
              "      <td>0.00</td>\n",
              "      <td>0</td>\n",
              "      <td>0</td>\n",
              "    </tr>\n",
              "    <tr>\n",
              "      <th>5</th>\n",
              "      <td>1</td>\n",
              "      <td>PAYMENT</td>\n",
              "      <td>7817.71</td>\n",
              "      <td>C90045638</td>\n",
              "      <td>53860.00</td>\n",
              "      <td>46042.29</td>\n",
              "      <td>M573487274</td>\n",
              "      <td>0.0</td>\n",
              "      <td>0.00</td>\n",
              "      <td>0</td>\n",
              "      <td>0</td>\n",
              "    </tr>\n",
              "    <tr>\n",
              "      <th>6</th>\n",
              "      <td>1</td>\n",
              "      <td>PAYMENT</td>\n",
              "      <td>7107.77</td>\n",
              "      <td>C154988899</td>\n",
              "      <td>183195.00</td>\n",
              "      <td>176087.23</td>\n",
              "      <td>M408069119</td>\n",
              "      <td>0.0</td>\n",
              "      <td>0.00</td>\n",
              "      <td>0</td>\n",
              "      <td>0</td>\n",
              "    </tr>\n",
              "    <tr>\n",
              "      <th>7</th>\n",
              "      <td>1</td>\n",
              "      <td>PAYMENT</td>\n",
              "      <td>7861.64</td>\n",
              "      <td>C1912850431</td>\n",
              "      <td>176087.23</td>\n",
              "      <td>168225.59</td>\n",
              "      <td>M633326333</td>\n",
              "      <td>0.0</td>\n",
              "      <td>0.00</td>\n",
              "      <td>0</td>\n",
              "      <td>0</td>\n",
              "    </tr>\n",
              "    <tr>\n",
              "      <th>8</th>\n",
              "      <td>1</td>\n",
              "      <td>PAYMENT</td>\n",
              "      <td>4024.36</td>\n",
              "      <td>C1265012928</td>\n",
              "      <td>2671.00</td>\n",
              "      <td>0.00</td>\n",
              "      <td>M1176932104</td>\n",
              "      <td>0.0</td>\n",
              "      <td>0.00</td>\n",
              "      <td>0</td>\n",
              "      <td>0</td>\n",
              "    </tr>\n",
              "    <tr>\n",
              "      <th>9</th>\n",
              "      <td>1</td>\n",
              "      <td>DEBIT</td>\n",
              "      <td>5337.77</td>\n",
              "      <td>C712410124</td>\n",
              "      <td>41720.00</td>\n",
              "      <td>36382.23</td>\n",
              "      <td>C195600860</td>\n",
              "      <td>41898.0</td>\n",
              "      <td>40348.79</td>\n",
              "      <td>0</td>\n",
              "      <td>0</td>\n",
              "    </tr>\n",
              "  </tbody>\n",
              "</table>\n",
              "</div>\n",
              "      <button class=\"colab-df-convert\" onclick=\"convertToInteractive('df-d9160920-9c47-4b21-9e3a-c9db994e09da')\"\n",
              "              title=\"Convert this dataframe to an interactive table.\"\n",
              "              style=\"display:none;\">\n",
              "        \n",
              "  <svg xmlns=\"http://www.w3.org/2000/svg\" height=\"24px\"viewBox=\"0 0 24 24\"\n",
              "       width=\"24px\">\n",
              "    <path d=\"M0 0h24v24H0V0z\" fill=\"none\"/>\n",
              "    <path d=\"M18.56 5.44l.94 2.06.94-2.06 2.06-.94-2.06-.94-.94-2.06-.94 2.06-2.06.94zm-11 1L8.5 8.5l.94-2.06 2.06-.94-2.06-.94L8.5 2.5l-.94 2.06-2.06.94zm10 10l.94 2.06.94-2.06 2.06-.94-2.06-.94-.94-2.06-.94 2.06-2.06.94z\"/><path d=\"M17.41 7.96l-1.37-1.37c-.4-.4-.92-.59-1.43-.59-.52 0-1.04.2-1.43.59L10.3 9.45l-7.72 7.72c-.78.78-.78 2.05 0 2.83L4 21.41c.39.39.9.59 1.41.59.51 0 1.02-.2 1.41-.59l7.78-7.78 2.81-2.81c.8-.78.8-2.07 0-2.86zM5.41 20L4 18.59l7.72-7.72 1.47 1.35L5.41 20z\"/>\n",
              "  </svg>\n",
              "      </button>\n",
              "      \n",
              "  <style>\n",
              "    .colab-df-container {\n",
              "      display:flex;\n",
              "      flex-wrap:wrap;\n",
              "      gap: 12px;\n",
              "    }\n",
              "\n",
              "    .colab-df-convert {\n",
              "      background-color: #E8F0FE;\n",
              "      border: none;\n",
              "      border-radius: 50%;\n",
              "      cursor: pointer;\n",
              "      display: none;\n",
              "      fill: #1967D2;\n",
              "      height: 32px;\n",
              "      padding: 0 0 0 0;\n",
              "      width: 32px;\n",
              "    }\n",
              "\n",
              "    .colab-df-convert:hover {\n",
              "      background-color: #E2EBFA;\n",
              "      box-shadow: 0px 1px 2px rgba(60, 64, 67, 0.3), 0px 1px 3px 1px rgba(60, 64, 67, 0.15);\n",
              "      fill: #174EA6;\n",
              "    }\n",
              "\n",
              "    [theme=dark] .colab-df-convert {\n",
              "      background-color: #3B4455;\n",
              "      fill: #D2E3FC;\n",
              "    }\n",
              "\n",
              "    [theme=dark] .colab-df-convert:hover {\n",
              "      background-color: #434B5C;\n",
              "      box-shadow: 0px 1px 3px 1px rgba(0, 0, 0, 0.15);\n",
              "      filter: drop-shadow(0px 1px 2px rgba(0, 0, 0, 0.3));\n",
              "      fill: #FFFFFF;\n",
              "    }\n",
              "  </style>\n",
              "\n",
              "      <script>\n",
              "        const buttonEl =\n",
              "          document.querySelector('#df-d9160920-9c47-4b21-9e3a-c9db994e09da button.colab-df-convert');\n",
              "        buttonEl.style.display =\n",
              "          google.colab.kernel.accessAllowed ? 'block' : 'none';\n",
              "\n",
              "        async function convertToInteractive(key) {\n",
              "          const element = document.querySelector('#df-d9160920-9c47-4b21-9e3a-c9db994e09da');\n",
              "          const dataTable =\n",
              "            await google.colab.kernel.invokeFunction('convertToInteractive',\n",
              "                                                     [key], {});\n",
              "          if (!dataTable) return;\n",
              "\n",
              "          const docLinkHtml = 'Like what you see? Visit the ' +\n",
              "            '<a target=\"_blank\" href=https://colab.research.google.com/notebooks/data_table.ipynb>data table notebook</a>'\n",
              "            + ' to learn more about interactive tables.';\n",
              "          element.innerHTML = '';\n",
              "          dataTable['output_type'] = 'display_data';\n",
              "          await google.colab.output.renderOutput(dataTable, element);\n",
              "          const docLink = document.createElement('div');\n",
              "          docLink.innerHTML = docLinkHtml;\n",
              "          element.appendChild(docLink);\n",
              "        }\n",
              "      </script>\n",
              "    </div>\n",
              "  </div>\n",
              "  "
            ]
          },
          "metadata": {},
          "execution_count": 38
        }
      ]
    },
    {
      "cell_type": "code",
      "source": [
        "print('All types: ',list(data['type'].drop_duplicates().values))"
      ],
      "metadata": {
        "colab": {
          "base_uri": "https://localhost:8080/"
        },
        "id": "1sCeo8na8VRr",
        "outputId": "cebaa9c3-b9c6-4df7-f0ad-4ca1c211b350"
      },
      "execution_count": 39,
      "outputs": [
        {
          "output_type": "stream",
          "name": "stdout",
          "text": [
            "All types:  ['PAYMENT', 'TRANSFER', 'CASH_OUT', 'DEBIT', 'CASH_IN']\n"
          ]
        }
      ]
    },
    {
      "cell_type": "code",
      "source": [
        "print('isFraud type', list(data[data.isFraud==1]['type'].drop_duplicates().values))\n",
        "print('isFlaggedFraud type', list(data[data.isFlaggedFraud==1]['type'].drop_duplicates().values))\n",
        "print('All transactions ', len(data))\n",
        "print('isFraud transactions ', len(data[data.isFraud==1]))\n",
        "print('- isFraud-TRANSFER transactions ', len(data[(data.isFraud==1)&(data['type']=='TRANSFER')]))\n",
        "print('- isFraud-CASH_OUT transactions ', len(data[(data.isFraud==1)&(data['type']=='CASH_OUT')]))\n",
        "print('isFlaggedFraud transactions ', len(data[data.isFlaggedFraud==1]))\n",
        "# with isFlaggedFraud number is only 16, we decide to ignore those values"
      ],
      "metadata": {
        "colab": {
          "base_uri": "https://localhost:8080/"
        },
        "id": "8bhXZ2k03AGl",
        "outputId": "0edf31d0-4c7a-47d2-de85-a285895d1f52"
      },
      "execution_count": 40,
      "outputs": [
        {
          "output_type": "stream",
          "name": "stdout",
          "text": [
            "isFraud type ['TRANSFER', 'CASH_OUT']\n",
            "isFlaggedFraud type ['TRANSFER']\n",
            "All transactions  6362620\n",
            "isFraud transactions  8213\n",
            "- isFraud-TRANSFER transactions  4097\n",
            "- isFraud-CASH_OUT transactions  4116\n",
            "isFlaggedFraud transactions  16\n"
          ]
        }
      ]
    },
    {
      "cell_type": "code",
      "source": [
        "# We only care about TRANSFER and CASH_OUT, because these are the two types where frauds happen\n",
        "df_select = data.loc[(data['type']=='TRANSFER')|(data['type']=='CASH_OUT')]\n",
        "\n",
        "# All transaction starter and transaction receiver\n",
        "list_of_senders = list(df_select['nameOrig'])\n",
        "list_of_dest = list(df_select['nameDest'])\n",
        "\n",
        "# fraud transaction \n",
        "dd_fraud=df_select.loc[df_select['isFraud']==1]\n",
        "# fraud transaction starter and transaction receiver\n",
        "list_of_senders_victom = list(dd_fraud[\"nameOrig\"])\n",
        "list_of_dest_fraud=list(dd_fraud[\"nameDest\"])\n",
        "\n",
        "# normal transaction \n",
        "dd_benign=df_select.loc[df_select['isFraud']==0]\n",
        "# normal transaction starter and transaction receiver\n",
        "list_of_senders_benign =list(dd_benign[\"nameOrig\"])\n",
        "list_of_dest_benign=list(dd_benign[\"nameDest\"])"
      ],
      "metadata": {
        "id": "XvHXKTrw5o_I"
      },
      "execution_count": 4,
      "outputs": []
    },
    {
      "cell_type": "code",
      "source": [
        "# Normalize Amount\n",
        "from sklearn.preprocessing import StandardScaler\n",
        "# create a StandardScaler object\n",
        "scaler = StandardScaler()\n",
        "\n",
        "# fit the scaler on the amount column\n",
        "scaler.fit(df_select[['amount']])\n",
        "# transform the amount column using the scaler\n",
        "df_select['normalized_amount'] = scaler.transform(df_select[['amount']])"
      ],
      "metadata": {
        "colab": {
          "base_uri": "https://localhost:8080/"
        },
        "id": "dSN3_qWBPSk8",
        "outputId": "143ecce2-845c-40d0-9d77-73bfd3c2d3a9"
      },
      "execution_count": 5,
      "outputs": [
        {
          "output_type": "stream",
          "name": "stderr",
          "text": [
            "<ipython-input-5-16c3c762f158>:9: SettingWithCopyWarning: \n",
            "A value is trying to be set on a copy of a slice from a DataFrame.\n",
            "Try using .loc[row_indexer,col_indexer] = value instead\n",
            "\n",
            "See the caveats in the documentation: https://pandas.pydata.org/pandas-docs/stable/user_guide/indexing.html#returning-a-view-versus-a-copy\n",
            "  df_select['normalized_amount'] = scaler.transform(df_select[['amount']])\n"
          ]
        }
      ]
    },
    {
      "cell_type": "code",
      "source": [
        "df_select.head(10)"
      ],
      "metadata": {
        "colab": {
          "base_uri": "https://localhost:8080/",
          "height": 427
        },
        "id": "p2APBgKq8QGE",
        "outputId": "355614d6-3b8c-401d-a654-ed57cd9951b3"
      },
      "execution_count": 6,
      "outputs": [
        {
          "output_type": "execute_result",
          "data": {
            "text/plain": [
              "    step      type     amount     nameOrig  oldbalanceOrg  newbalanceOrig  \\\n",
              "2      1  TRANSFER     181.00  C1305486145         181.00             0.0   \n",
              "3      1  CASH_OUT     181.00   C840083671         181.00             0.0   \n",
              "15     1  CASH_OUT  229133.94   C905080434       15325.00             0.0   \n",
              "19     1  TRANSFER  215310.30  C1670993182         705.00             0.0   \n",
              "24     1  TRANSFER  311685.89  C1984094095       10835.00             0.0   \n",
              "42     1  CASH_OUT  110414.71   C768216420       26845.41             0.0   \n",
              "47     1  CASH_OUT   56953.90  C1570470538        1942.02             0.0   \n",
              "48     1  CASH_OUT    5346.89   C512549200           0.00             0.0   \n",
              "51     1  CASH_OUT   23261.30  C2072313080       20411.53             0.0   \n",
              "58     1  TRANSFER   62610.80  C1976401987       79114.00         16503.2   \n",
              "\n",
              "       nameDest  oldbalanceDest  newbalanceDest  isFraud  isFlaggedFraud  \\\n",
              "2    C553264065             0.0            0.00        1               0   \n",
              "3     C38997010         21182.0            0.00        1               0   \n",
              "15   C476402209          5083.0        51513.44        0               0   \n",
              "19  C1100439041         22425.0            0.00        0               0   \n",
              "24   C932583850          6267.0      2719172.89        0               0   \n",
              "42  C1509514333        288800.0         2415.16        0               0   \n",
              "47   C824009085         70253.0        64106.18        0               0   \n",
              "48   C248609774        652637.0      6453430.91        0               0   \n",
              "51  C2001112025         25742.0            0.00        0               0   \n",
              "58  C1937962514           517.0         8383.29        0               0   \n",
              "\n",
              "    normalized_amount  \n",
              "2           -0.357467  \n",
              "3           -0.357467  \n",
              "15          -0.099576  \n",
              "19          -0.115146  \n",
              "24          -0.006590  \n",
              "42          -0.233300  \n",
              "47          -0.293518  \n",
              "48          -0.351648  \n",
              "51          -0.331469  \n",
              "58          -0.287146  "
            ],
            "text/html": [
              "\n",
              "  <div id=\"df-a77120fb-f595-474b-834f-987b87b3b4d8\">\n",
              "    <div class=\"colab-df-container\">\n",
              "      <div>\n",
              "<style scoped>\n",
              "    .dataframe tbody tr th:only-of-type {\n",
              "        vertical-align: middle;\n",
              "    }\n",
              "\n",
              "    .dataframe tbody tr th {\n",
              "        vertical-align: top;\n",
              "    }\n",
              "\n",
              "    .dataframe thead th {\n",
              "        text-align: right;\n",
              "    }\n",
              "</style>\n",
              "<table border=\"1\" class=\"dataframe\">\n",
              "  <thead>\n",
              "    <tr style=\"text-align: right;\">\n",
              "      <th></th>\n",
              "      <th>step</th>\n",
              "      <th>type</th>\n",
              "      <th>amount</th>\n",
              "      <th>nameOrig</th>\n",
              "      <th>oldbalanceOrg</th>\n",
              "      <th>newbalanceOrig</th>\n",
              "      <th>nameDest</th>\n",
              "      <th>oldbalanceDest</th>\n",
              "      <th>newbalanceDest</th>\n",
              "      <th>isFraud</th>\n",
              "      <th>isFlaggedFraud</th>\n",
              "      <th>normalized_amount</th>\n",
              "    </tr>\n",
              "  </thead>\n",
              "  <tbody>\n",
              "    <tr>\n",
              "      <th>2</th>\n",
              "      <td>1</td>\n",
              "      <td>TRANSFER</td>\n",
              "      <td>181.00</td>\n",
              "      <td>C1305486145</td>\n",
              "      <td>181.00</td>\n",
              "      <td>0.0</td>\n",
              "      <td>C553264065</td>\n",
              "      <td>0.0</td>\n",
              "      <td>0.00</td>\n",
              "      <td>1</td>\n",
              "      <td>0</td>\n",
              "      <td>-0.357467</td>\n",
              "    </tr>\n",
              "    <tr>\n",
              "      <th>3</th>\n",
              "      <td>1</td>\n",
              "      <td>CASH_OUT</td>\n",
              "      <td>181.00</td>\n",
              "      <td>C840083671</td>\n",
              "      <td>181.00</td>\n",
              "      <td>0.0</td>\n",
              "      <td>C38997010</td>\n",
              "      <td>21182.0</td>\n",
              "      <td>0.00</td>\n",
              "      <td>1</td>\n",
              "      <td>0</td>\n",
              "      <td>-0.357467</td>\n",
              "    </tr>\n",
              "    <tr>\n",
              "      <th>15</th>\n",
              "      <td>1</td>\n",
              "      <td>CASH_OUT</td>\n",
              "      <td>229133.94</td>\n",
              "      <td>C905080434</td>\n",
              "      <td>15325.00</td>\n",
              "      <td>0.0</td>\n",
              "      <td>C476402209</td>\n",
              "      <td>5083.0</td>\n",
              "      <td>51513.44</td>\n",
              "      <td>0</td>\n",
              "      <td>0</td>\n",
              "      <td>-0.099576</td>\n",
              "    </tr>\n",
              "    <tr>\n",
              "      <th>19</th>\n",
              "      <td>1</td>\n",
              "      <td>TRANSFER</td>\n",
              "      <td>215310.30</td>\n",
              "      <td>C1670993182</td>\n",
              "      <td>705.00</td>\n",
              "      <td>0.0</td>\n",
              "      <td>C1100439041</td>\n",
              "      <td>22425.0</td>\n",
              "      <td>0.00</td>\n",
              "      <td>0</td>\n",
              "      <td>0</td>\n",
              "      <td>-0.115146</td>\n",
              "    </tr>\n",
              "    <tr>\n",
              "      <th>24</th>\n",
              "      <td>1</td>\n",
              "      <td>TRANSFER</td>\n",
              "      <td>311685.89</td>\n",
              "      <td>C1984094095</td>\n",
              "      <td>10835.00</td>\n",
              "      <td>0.0</td>\n",
              "      <td>C932583850</td>\n",
              "      <td>6267.0</td>\n",
              "      <td>2719172.89</td>\n",
              "      <td>0</td>\n",
              "      <td>0</td>\n",
              "      <td>-0.006590</td>\n",
              "    </tr>\n",
              "    <tr>\n",
              "      <th>42</th>\n",
              "      <td>1</td>\n",
              "      <td>CASH_OUT</td>\n",
              "      <td>110414.71</td>\n",
              "      <td>C768216420</td>\n",
              "      <td>26845.41</td>\n",
              "      <td>0.0</td>\n",
              "      <td>C1509514333</td>\n",
              "      <td>288800.0</td>\n",
              "      <td>2415.16</td>\n",
              "      <td>0</td>\n",
              "      <td>0</td>\n",
              "      <td>-0.233300</td>\n",
              "    </tr>\n",
              "    <tr>\n",
              "      <th>47</th>\n",
              "      <td>1</td>\n",
              "      <td>CASH_OUT</td>\n",
              "      <td>56953.90</td>\n",
              "      <td>C1570470538</td>\n",
              "      <td>1942.02</td>\n",
              "      <td>0.0</td>\n",
              "      <td>C824009085</td>\n",
              "      <td>70253.0</td>\n",
              "      <td>64106.18</td>\n",
              "      <td>0</td>\n",
              "      <td>0</td>\n",
              "      <td>-0.293518</td>\n",
              "    </tr>\n",
              "    <tr>\n",
              "      <th>48</th>\n",
              "      <td>1</td>\n",
              "      <td>CASH_OUT</td>\n",
              "      <td>5346.89</td>\n",
              "      <td>C512549200</td>\n",
              "      <td>0.00</td>\n",
              "      <td>0.0</td>\n",
              "      <td>C248609774</td>\n",
              "      <td>652637.0</td>\n",
              "      <td>6453430.91</td>\n",
              "      <td>0</td>\n",
              "      <td>0</td>\n",
              "      <td>-0.351648</td>\n",
              "    </tr>\n",
              "    <tr>\n",
              "      <th>51</th>\n",
              "      <td>1</td>\n",
              "      <td>CASH_OUT</td>\n",
              "      <td>23261.30</td>\n",
              "      <td>C2072313080</td>\n",
              "      <td>20411.53</td>\n",
              "      <td>0.0</td>\n",
              "      <td>C2001112025</td>\n",
              "      <td>25742.0</td>\n",
              "      <td>0.00</td>\n",
              "      <td>0</td>\n",
              "      <td>0</td>\n",
              "      <td>-0.331469</td>\n",
              "    </tr>\n",
              "    <tr>\n",
              "      <th>58</th>\n",
              "      <td>1</td>\n",
              "      <td>TRANSFER</td>\n",
              "      <td>62610.80</td>\n",
              "      <td>C1976401987</td>\n",
              "      <td>79114.00</td>\n",
              "      <td>16503.2</td>\n",
              "      <td>C1937962514</td>\n",
              "      <td>517.0</td>\n",
              "      <td>8383.29</td>\n",
              "      <td>0</td>\n",
              "      <td>0</td>\n",
              "      <td>-0.287146</td>\n",
              "    </tr>\n",
              "  </tbody>\n",
              "</table>\n",
              "</div>\n",
              "      <button class=\"colab-df-convert\" onclick=\"convertToInteractive('df-a77120fb-f595-474b-834f-987b87b3b4d8')\"\n",
              "              title=\"Convert this dataframe to an interactive table.\"\n",
              "              style=\"display:none;\">\n",
              "        \n",
              "  <svg xmlns=\"http://www.w3.org/2000/svg\" height=\"24px\"viewBox=\"0 0 24 24\"\n",
              "       width=\"24px\">\n",
              "    <path d=\"M0 0h24v24H0V0z\" fill=\"none\"/>\n",
              "    <path d=\"M18.56 5.44l.94 2.06.94-2.06 2.06-.94-2.06-.94-.94-2.06-.94 2.06-2.06.94zm-11 1L8.5 8.5l.94-2.06 2.06-.94-2.06-.94L8.5 2.5l-.94 2.06-2.06.94zm10 10l.94 2.06.94-2.06 2.06-.94-2.06-.94-.94-2.06-.94 2.06-2.06.94z\"/><path d=\"M17.41 7.96l-1.37-1.37c-.4-.4-.92-.59-1.43-.59-.52 0-1.04.2-1.43.59L10.3 9.45l-7.72 7.72c-.78.78-.78 2.05 0 2.83L4 21.41c.39.39.9.59 1.41.59.51 0 1.02-.2 1.41-.59l7.78-7.78 2.81-2.81c.8-.78.8-2.07 0-2.86zM5.41 20L4 18.59l7.72-7.72 1.47 1.35L5.41 20z\"/>\n",
              "  </svg>\n",
              "      </button>\n",
              "      \n",
              "  <style>\n",
              "    .colab-df-container {\n",
              "      display:flex;\n",
              "      flex-wrap:wrap;\n",
              "      gap: 12px;\n",
              "    }\n",
              "\n",
              "    .colab-df-convert {\n",
              "      background-color: #E8F0FE;\n",
              "      border: none;\n",
              "      border-radius: 50%;\n",
              "      cursor: pointer;\n",
              "      display: none;\n",
              "      fill: #1967D2;\n",
              "      height: 32px;\n",
              "      padding: 0 0 0 0;\n",
              "      width: 32px;\n",
              "    }\n",
              "\n",
              "    .colab-df-convert:hover {\n",
              "      background-color: #E2EBFA;\n",
              "      box-shadow: 0px 1px 2px rgba(60, 64, 67, 0.3), 0px 1px 3px 1px rgba(60, 64, 67, 0.15);\n",
              "      fill: #174EA6;\n",
              "    }\n",
              "\n",
              "    [theme=dark] .colab-df-convert {\n",
              "      background-color: #3B4455;\n",
              "      fill: #D2E3FC;\n",
              "    }\n",
              "\n",
              "    [theme=dark] .colab-df-convert:hover {\n",
              "      background-color: #434B5C;\n",
              "      box-shadow: 0px 1px 3px 1px rgba(0, 0, 0, 0.15);\n",
              "      filter: drop-shadow(0px 1px 2px rgba(0, 0, 0, 0.3));\n",
              "      fill: #FFFFFF;\n",
              "    }\n",
              "  </style>\n",
              "\n",
              "      <script>\n",
              "        const buttonEl =\n",
              "          document.querySelector('#df-a77120fb-f595-474b-834f-987b87b3b4d8 button.colab-df-convert');\n",
              "        buttonEl.style.display =\n",
              "          google.colab.kernel.accessAllowed ? 'block' : 'none';\n",
              "\n",
              "        async function convertToInteractive(key) {\n",
              "          const element = document.querySelector('#df-a77120fb-f595-474b-834f-987b87b3b4d8');\n",
              "          const dataTable =\n",
              "            await google.colab.kernel.invokeFunction('convertToInteractive',\n",
              "                                                     [key], {});\n",
              "          if (!dataTable) return;\n",
              "\n",
              "          const docLinkHtml = 'Like what you see? Visit the ' +\n",
              "            '<a target=\"_blank\" href=https://colab.research.google.com/notebooks/data_table.ipynb>data table notebook</a>'\n",
              "            + ' to learn more about interactive tables.';\n",
              "          element.innerHTML = '';\n",
              "          dataTable['output_type'] = 'display_data';\n",
              "          await google.colab.output.renderOutput(dataTable, element);\n",
              "          const docLink = document.createElement('div');\n",
              "          docLink.innerHTML = docLinkHtml;\n",
              "          element.appendChild(docLink);\n",
              "        }\n",
              "      </script>\n",
              "    </div>\n",
              "  </div>\n",
              "  "
            ]
          },
          "metadata": {},
          "execution_count": 6
        }
      ]
    },
    {
      "cell_type": "code",
      "source": [
        "# Creating Graph using only the TRANSFER and CASH_OUT data\n",
        "G = nx.from_pandas_edgelist(df_select, 'nameOrig', 'nameDest', edge_attr=['amount', 'oldbalanceOrg', 'newbalanceOrig', 'oldbalanceDest', 'newbalanceDest']\n",
        "                            , create_using=nx.DiGraph())\n",
        "# Print some basic information about the graph\n",
        "print(\"Number of nodes:\", G.number_of_nodes())\n",
        "print(\"Number of edges:\", G.number_of_edges())"
      ],
      "metadata": {
        "colab": {
          "base_uri": "https://localhost:8080/"
        },
        "id": "VPrXabI27vwD",
        "outputId": "9dabfd7b-8710-4ae5-c05c-4152b13114b1"
      },
      "execution_count": 7,
      "outputs": [
        {
          "output_type": "stream",
          "name": "stdout",
          "text": [
            "Number of nodes: 3277509\n",
            "Number of edges: 2770409\n"
          ]
        }
      ]
    },
    {
      "cell_type": "markdown",
      "source": [
        "# Ego network - see node level"
      ],
      "metadata": {
        "id": "SWkfgZEqCnXO"
      }
    },
    {
      "cell_type": "code",
      "source": [
        "df_select.loc[df_select['nameDest']=='C553264065']"
      ],
      "metadata": {
        "id": "yxLhogxSn1oE"
      },
      "execution_count": null,
      "outputs": []
    },
    {
      "cell_type": "code",
      "source": [
        "# Create Ego network, see connections in NODE-LEVEL\n",
        "# take one fraud example,'C553264065' is the nameDest in a fraud transaction\n",
        "egog = nx.ego_graph(G,'C553264065',radius =1, center=True, undirected=True)\n",
        "nx.draw(egog)\n",
        "labels=nx.draw_networkx_labels(egog,pos=nx.spring_layout(egog))\n",
        "plt.show()"
      ],
      "metadata": {
        "id": "Gp_Weay8_cpn"
      },
      "execution_count": null,
      "outputs": []
    },
    {
      "cell_type": "code",
      "source": [
        "# test and flagged results\n",
        "list_of_flaged=nx.nodes(egog)\n",
        "flagged=set(list_of_flaged)\n",
        "fraud=set(list_of_dest_fraud)\n",
        "fraud.intersection(flagged)"
      ],
      "metadata": {
        "id": "75PY_s0SB4Ze"
      },
      "execution_count": null,
      "outputs": []
    },
    {
      "cell_type": "markdown",
      "source": [
        "# Features Extractor"
      ],
      "metadata": {
        "id": "1V7A2RUZCuFO"
      }
    },
    {
      "cell_type": "markdown",
      "source": [
        "As our dataset is so imbalanced, we implemented negative sampling to generate new dataset."
      ],
      "metadata": {
        "id": "k8HTlUIZfT31"
      }
    },
    {
      "cell_type": "code",
      "source": [
        "# shuffle dafaframe rows\n",
        "df_select = df_select.sample(frac=1)\n",
        "# we have 8213 fraud transactions\n",
        "fraud_df = df_select.loc[df_select['isFraud'] == 1]\n",
        "non_fraud_df = df_select.loc[df_select['isFraud'] == 0][:8213]\n",
        "\n",
        "normal_distributer_df = pd.concat([fraud_df, non_fraud_df])\n",
        "\n",
        "# shuffle dafaframe rows\n",
        "new_df = normal_distributer_df.sample(frac=1, random_state=42)\n",
        "\n",
        "new_df.head()"
      ],
      "metadata": {
        "colab": {
          "base_uri": "https://localhost:8080/",
          "height": 270
        },
        "id": "nRY-JccjfQOt",
        "outputId": "5a2a4363-de3f-4f2c-a872-4e38b8fa6dd7"
      },
      "execution_count": 8,
      "outputs": [
        {
          "output_type": "execute_result",
          "data": {
            "text/plain": [
              "         step      type       amount     nameOrig  oldbalanceOrg  \\\n",
              "5151123   357  CASH_OUT    527751.82  C2057292942           0.00   \n",
              "1424830   139  CASH_OUT    104917.07   C960476928      181448.00   \n",
              "5551653   383  CASH_OUT    106601.15  C1647085354      106601.15   \n",
              "6276602   638  TRANSFER   7788725.20  C1474481275     7788725.20   \n",
              "6205433   586  TRANSFER  10000000.00  C1979114980    30353874.22   \n",
              "\n",
              "         newbalanceOrig     nameDest  oldbalanceDest  newbalanceDest  isFraud  \\\n",
              "5151123            0.00  C1457383927      9029652.17      9557403.99        0   \n",
              "1424830        76530.93  C1238226343            0.00       104917.07        0   \n",
              "5551653            0.00   C113727992      2361916.89      2468518.04        1   \n",
              "6276602            0.00   C955662088            0.00            0.00        1   \n",
              "6205433     20353874.22   C617558864            0.00            0.00        1   \n",
              "\n",
              "         isFlaggedFraud  normalized_amount  \n",
              "5151123               0           0.236785  \n",
              "1424830               0          -0.239493  \n",
              "5551653               0          -0.237596  \n",
              "6276602               0           8.415496  \n",
              "6205433               0          10.906261  "
            ],
            "text/html": [
              "\n",
              "  <div id=\"df-b2bc7bb1-ebaa-403f-b695-8aba3a8398eb\">\n",
              "    <div class=\"colab-df-container\">\n",
              "      <div>\n",
              "<style scoped>\n",
              "    .dataframe tbody tr th:only-of-type {\n",
              "        vertical-align: middle;\n",
              "    }\n",
              "\n",
              "    .dataframe tbody tr th {\n",
              "        vertical-align: top;\n",
              "    }\n",
              "\n",
              "    .dataframe thead th {\n",
              "        text-align: right;\n",
              "    }\n",
              "</style>\n",
              "<table border=\"1\" class=\"dataframe\">\n",
              "  <thead>\n",
              "    <tr style=\"text-align: right;\">\n",
              "      <th></th>\n",
              "      <th>step</th>\n",
              "      <th>type</th>\n",
              "      <th>amount</th>\n",
              "      <th>nameOrig</th>\n",
              "      <th>oldbalanceOrg</th>\n",
              "      <th>newbalanceOrig</th>\n",
              "      <th>nameDest</th>\n",
              "      <th>oldbalanceDest</th>\n",
              "      <th>newbalanceDest</th>\n",
              "      <th>isFraud</th>\n",
              "      <th>isFlaggedFraud</th>\n",
              "      <th>normalized_amount</th>\n",
              "    </tr>\n",
              "  </thead>\n",
              "  <tbody>\n",
              "    <tr>\n",
              "      <th>5151123</th>\n",
              "      <td>357</td>\n",
              "      <td>CASH_OUT</td>\n",
              "      <td>527751.82</td>\n",
              "      <td>C2057292942</td>\n",
              "      <td>0.00</td>\n",
              "      <td>0.00</td>\n",
              "      <td>C1457383927</td>\n",
              "      <td>9029652.17</td>\n",
              "      <td>9557403.99</td>\n",
              "      <td>0</td>\n",
              "      <td>0</td>\n",
              "      <td>0.236785</td>\n",
              "    </tr>\n",
              "    <tr>\n",
              "      <th>1424830</th>\n",
              "      <td>139</td>\n",
              "      <td>CASH_OUT</td>\n",
              "      <td>104917.07</td>\n",
              "      <td>C960476928</td>\n",
              "      <td>181448.00</td>\n",
              "      <td>76530.93</td>\n",
              "      <td>C1238226343</td>\n",
              "      <td>0.00</td>\n",
              "      <td>104917.07</td>\n",
              "      <td>0</td>\n",
              "      <td>0</td>\n",
              "      <td>-0.239493</td>\n",
              "    </tr>\n",
              "    <tr>\n",
              "      <th>5551653</th>\n",
              "      <td>383</td>\n",
              "      <td>CASH_OUT</td>\n",
              "      <td>106601.15</td>\n",
              "      <td>C1647085354</td>\n",
              "      <td>106601.15</td>\n",
              "      <td>0.00</td>\n",
              "      <td>C113727992</td>\n",
              "      <td>2361916.89</td>\n",
              "      <td>2468518.04</td>\n",
              "      <td>1</td>\n",
              "      <td>0</td>\n",
              "      <td>-0.237596</td>\n",
              "    </tr>\n",
              "    <tr>\n",
              "      <th>6276602</th>\n",
              "      <td>638</td>\n",
              "      <td>TRANSFER</td>\n",
              "      <td>7788725.20</td>\n",
              "      <td>C1474481275</td>\n",
              "      <td>7788725.20</td>\n",
              "      <td>0.00</td>\n",
              "      <td>C955662088</td>\n",
              "      <td>0.00</td>\n",
              "      <td>0.00</td>\n",
              "      <td>1</td>\n",
              "      <td>0</td>\n",
              "      <td>8.415496</td>\n",
              "    </tr>\n",
              "    <tr>\n",
              "      <th>6205433</th>\n",
              "      <td>586</td>\n",
              "      <td>TRANSFER</td>\n",
              "      <td>10000000.00</td>\n",
              "      <td>C1979114980</td>\n",
              "      <td>30353874.22</td>\n",
              "      <td>20353874.22</td>\n",
              "      <td>C617558864</td>\n",
              "      <td>0.00</td>\n",
              "      <td>0.00</td>\n",
              "      <td>1</td>\n",
              "      <td>0</td>\n",
              "      <td>10.906261</td>\n",
              "    </tr>\n",
              "  </tbody>\n",
              "</table>\n",
              "</div>\n",
              "      <button class=\"colab-df-convert\" onclick=\"convertToInteractive('df-b2bc7bb1-ebaa-403f-b695-8aba3a8398eb')\"\n",
              "              title=\"Convert this dataframe to an interactive table.\"\n",
              "              style=\"display:none;\">\n",
              "        \n",
              "  <svg xmlns=\"http://www.w3.org/2000/svg\" height=\"24px\"viewBox=\"0 0 24 24\"\n",
              "       width=\"24px\">\n",
              "    <path d=\"M0 0h24v24H0V0z\" fill=\"none\"/>\n",
              "    <path d=\"M18.56 5.44l.94 2.06.94-2.06 2.06-.94-2.06-.94-.94-2.06-.94 2.06-2.06.94zm-11 1L8.5 8.5l.94-2.06 2.06-.94-2.06-.94L8.5 2.5l-.94 2.06-2.06.94zm10 10l.94 2.06.94-2.06 2.06-.94-2.06-.94-.94-2.06-.94 2.06-2.06.94z\"/><path d=\"M17.41 7.96l-1.37-1.37c-.4-.4-.92-.59-1.43-.59-.52 0-1.04.2-1.43.59L10.3 9.45l-7.72 7.72c-.78.78-.78 2.05 0 2.83L4 21.41c.39.39.9.59 1.41.59.51 0 1.02-.2 1.41-.59l7.78-7.78 2.81-2.81c.8-.78.8-2.07 0-2.86zM5.41 20L4 18.59l7.72-7.72 1.47 1.35L5.41 20z\"/>\n",
              "  </svg>\n",
              "      </button>\n",
              "      \n",
              "  <style>\n",
              "    .colab-df-container {\n",
              "      display:flex;\n",
              "      flex-wrap:wrap;\n",
              "      gap: 12px;\n",
              "    }\n",
              "\n",
              "    .colab-df-convert {\n",
              "      background-color: #E8F0FE;\n",
              "      border: none;\n",
              "      border-radius: 50%;\n",
              "      cursor: pointer;\n",
              "      display: none;\n",
              "      fill: #1967D2;\n",
              "      height: 32px;\n",
              "      padding: 0 0 0 0;\n",
              "      width: 32px;\n",
              "    }\n",
              "\n",
              "    .colab-df-convert:hover {\n",
              "      background-color: #E2EBFA;\n",
              "      box-shadow: 0px 1px 2px rgba(60, 64, 67, 0.3), 0px 1px 3px 1px rgba(60, 64, 67, 0.15);\n",
              "      fill: #174EA6;\n",
              "    }\n",
              "\n",
              "    [theme=dark] .colab-df-convert {\n",
              "      background-color: #3B4455;\n",
              "      fill: #D2E3FC;\n",
              "    }\n",
              "\n",
              "    [theme=dark] .colab-df-convert:hover {\n",
              "      background-color: #434B5C;\n",
              "      box-shadow: 0px 1px 3px 1px rgba(0, 0, 0, 0.15);\n",
              "      filter: drop-shadow(0px 1px 2px rgba(0, 0, 0, 0.3));\n",
              "      fill: #FFFFFF;\n",
              "    }\n",
              "  </style>\n",
              "\n",
              "      <script>\n",
              "        const buttonEl =\n",
              "          document.querySelector('#df-b2bc7bb1-ebaa-403f-b695-8aba3a8398eb button.colab-df-convert');\n",
              "        buttonEl.style.display =\n",
              "          google.colab.kernel.accessAllowed ? 'block' : 'none';\n",
              "\n",
              "        async function convertToInteractive(key) {\n",
              "          const element = document.querySelector('#df-b2bc7bb1-ebaa-403f-b695-8aba3a8398eb');\n",
              "          const dataTable =\n",
              "            await google.colab.kernel.invokeFunction('convertToInteractive',\n",
              "                                                     [key], {});\n",
              "          if (!dataTable) return;\n",
              "\n",
              "          const docLinkHtml = 'Like what you see? Visit the ' +\n",
              "            '<a target=\"_blank\" href=https://colab.research.google.com/notebooks/data_table.ipynb>data table notebook</a>'\n",
              "            + ' to learn more about interactive tables.';\n",
              "          element.innerHTML = '';\n",
              "          dataTable['output_type'] = 'display_data';\n",
              "          await google.colab.output.renderOutput(dataTable, element);\n",
              "          const docLink = document.createElement('div');\n",
              "          docLink.innerHTML = docLinkHtml;\n",
              "          element.appendChild(docLink);\n",
              "        }\n",
              "      </script>\n",
              "    </div>\n",
              "  </div>\n",
              "  "
            ]
          },
          "metadata": {},
          "execution_count": 8
        }
      ]
    },
    {
      "cell_type": "code",
      "source": [
        "# the fraud and non-fraud transactions in new_df\n",
        "print('nonFraud transactions ', len(new_df[new_df.isFraud==0]))\n",
        "print('isFraud transactions ', len(new_df[new_df.isFraud==1]))"
      ],
      "metadata": {
        "id": "2-kSV6LEfeX8",
        "colab": {
          "base_uri": "https://localhost:8080/"
        },
        "outputId": "1054389d-7900-41c5-ad8d-53f8a6172063"
      },
      "execution_count": 9,
      "outputs": [
        {
          "output_type": "stream",
          "name": "stdout",
          "text": [
            "nonFraud transactions  8213\n",
            "isFraud transactions  8213\n"
          ]
        }
      ]
    },
    {
      "cell_type": "code",
      "source": [
        "# Here we split transactions into training and test sets randomly\n",
        "train, test_df = train_test_split(new_df, test_size=0.2, random_state=42)\n",
        "train_df, val_df = train_test_split(train, test_size=0.2, random_state=42)\n",
        "# print the sizes of the training and test sets\n",
        "print(\"Training set size:\", len(train_df))\n",
        "print(\"Validation set size:\", len(val_df))\n",
        "print(\"Test set size:\", len(test_df))"
      ],
      "metadata": {
        "colab": {
          "base_uri": "https://localhost:8080/"
        },
        "id": "f-HNZMjWDb6g",
        "outputId": "7e8d8575-6772-4db3-bd13-660c5e5fe66f"
      },
      "execution_count": 10,
      "outputs": [
        {
          "output_type": "stream",
          "name": "stdout",
          "text": [
            "Training set size: 10512\n",
            "Validation set size: 2628\n",
            "Test set size: 3286\n"
          ]
        }
      ]
    },
    {
      "cell_type": "code",
      "source": [
        "# Import seaborn\n",
        "import seaborn as sns\n",
        "plt.figure(figsize=(10,5))\n",
        "sns.heatmap(train.corr(),annot=True,cmap='hot')"
      ],
      "metadata": {
        "colab": {
          "base_uri": "https://localhost:8080/",
          "height": 649
        },
        "id": "Xjbdbjl_hDKU",
        "outputId": "c5f7a70f-ff22-49f7-e57f-ceb2468ee639"
      },
      "execution_count": 11,
      "outputs": [
        {
          "output_type": "stream",
          "name": "stderr",
          "text": [
            "<ipython-input-11-d385f870509a>:4: FutureWarning: The default value of numeric_only in DataFrame.corr is deprecated. In a future version, it will default to False. Select only valid columns or specify the value of numeric_only to silence this warning.\n",
            "  sns.heatmap(train.corr(),annot=True,cmap='hot')\n"
          ]
        },
        {
          "output_type": "execute_result",
          "data": {
            "text/plain": [
              "<Axes: >"
            ]
          },
          "metadata": {},
          "execution_count": 11
        },
        {
          "output_type": "display_data",
          "data": {
            "text/plain": [
              "<Figure size 1000x500 with 2 Axes>"
            ],
            "image/png": "[encoded data removed]"
          },
          "metadata": {}
        }
      ]
    },
    {
      "cell_type": "code",
      "source": [
        "# prepare training and test data\n",
        "train_samples = [(row['nameOrig'], row['nameDest'],row['amount']) for _, row in train_df.iterrows()]\n",
        "train_labels = [(row['isFraud']) for _, row in train_df.iterrows()]\n",
        "\n",
        "test_samples = [(row['nameOrig'], row['nameDest'],row['amount']) for _, row in test_df.iterrows()]\n",
        "test_labels = [(row['isFraud']) for _, row in test_df.iterrows()]\n",
        "\n",
        "\n",
        "print('fraud in train samples', sum(train_labels),'/',len(train_labels))\n",
        "print('fraud in test samples', sum(test_labels),'/',len(test_labels))"
      ],
      "metadata": {
        "id": "vG5YLmu5DDLp",
        "colab": {
          "base_uri": "https://localhost:8080/"
        },
        "outputId": "2d48cf9e-96e4-4c08-9a3b-2e71100e79c2"
      },
      "execution_count": 12,
      "outputs": [
        {
          "output_type": "stream",
          "name": "stdout",
          "text": [
            "fraud in train samples 5250 / 10512\n",
            "fraud in test samples 1664 / 3286\n"
          ]
        }
      ]
    },
    {
      "cell_type": "code",
      "source": [
        "from sklearn.metrics.pairwise import cosine_similarity\n",
        "\n",
        "def feature_extractor(graph, samples):\n",
        "    \"\"\"\n",
        "    Creates a feature vector for each edge of the graph contained in samples \n",
        "    \"\"\"\n",
        "    feature_vector = []\n",
        "\n",
        "    # --- Extract manually diverse features relative to each edge contained in samples --- \n",
        "    # Degree Centrality measure\n",
        "    deg_centrality = nx.degree_centrality(graph)\n",
        "    \n",
        "    # Calculate approximate betweenness centrality, set k<num_nodes to reduce calculation cost\n",
        "    # approx_centrality = nx.betweenness_centrality(graph,k=200000)\n",
        "\n",
        "    # Page Rank Measure\n",
        "    page_rank = nx.pagerank(graph)\n",
        "        \n",
        "    for edge in tqdm(samples):\n",
        "\n",
        "        source_node, target_node=edge[0], edge[1]\n",
        "        edge_data = G.get_edge_data(source_node, target_node)\n",
        "        if edge_data is not None:\n",
        "            amount=edge_data.get('amount')\n",
        "            oldbalanceOrg=edge_data.get('oldbalanceOrg')\n",
        "            newbalanceOrig=edge_data.get('newbalanceOrig')\n",
        "            oldbalanceDest=edge_data.get('oldbalanceDest')\n",
        "            newbalanceDest=edge_data.get('newbalanceDest')\n",
        "        else:\n",
        "        # handle the case where there is no edge between u and v\n",
        "            amount=0\n",
        "            oldbalanceOrg=0\n",
        "            newbalanceOrig=0\n",
        "            oldbalanceDest=0\n",
        "            newbalanceDest=0\n",
        "        \n",
        "\n",
        "        # Degree Centrality\n",
        "        source_degree_centrality = deg_centrality[source_node]\n",
        "        target_degree_centrality = deg_centrality[target_node]\n",
        "        \n",
        "        # Clustering coefficient\n",
        "        clustering_coefficient = nx.clustering(G, source_node)  \n",
        "        \n",
        "        # Betweeness centrality measure \n",
        "        # diff_bt = approx_centrality[target_node] - approx_centrality[source_node]\n",
        "\n",
        "        # Page Rank measure\n",
        "        page_rank_source, page_rank_target = page_rank[source_node],page_rank[target_node]\n",
        "\n",
        "\n",
        "        # Create edge feature vector with all metric computed above\n",
        "        feature_vector.append(np.array([\n",
        "                                        source_degree_centrality, target_degree_centrality,\n",
        "                                        clustering_coefficient,\n",
        "                                        amount,\n",
        "                                        oldbalanceOrg, newbalanceOrig, oldbalanceDest, newbalanceDest\n",
        "                                        # ,second_shortest_path\n",
        "                                        # ,diff_bt \n",
        "                                        ,page_rank_source,page_rank_target\n",
        "                                        # ,source_triangles,target_triangles\n",
        "                                        # ,eigenvector_centrality_source,eigenvector_centrality_target\n",
        "                                        ])) \n",
        "    return feature_vector"
      ],
      "metadata": {
        "id": "clhGXw2UB6ny"
      },
      "execution_count": 17,
      "outputs": []
    },
    {
      "cell_type": "code",
      "source": [
        "# Create feature vector for all edges in training set and test set ---\n",
        "train_features = feature_extractor(G, train_samples)\n",
        "test_features = feature_extractor(G, test_samples)"
      ],
      "metadata": {
        "id": "b4668XJqFg6u",
        "colab": {
          "base_uri": "https://localhost:8080/"
        },
        "outputId": "fcfdd346-aafa-4f37-a71c-9c52b80d7eaa"
      },
      "execution_count": 18,
      "outputs": [
        {
          "output_type": "stream",
          "name": "stderr",
          "text": [
            "100%|██████████| 10512/10512 [00:00<00:00, 41313.78it/s]\n",
            "100%|██████████| 3286/3286 [00:00<00:00, 45142.14it/s]\n"
          ]
        }
      ]
    },
    {
      "cell_type": "markdown",
      "source": [
        "# LogisticRegression"
      ],
      "metadata": {
        "id": "WoIhIIs7prSC"
      }
    },
    {
      "cell_type": "code",
      "source": [
        "# simple LogisticRegression\n",
        "def prediction(graph, train_features, test_features, train_labels):\n",
        "    \"\"\"\n",
        "    Downstream ML task using edge embeddings to classify them \n",
        "    \"\"\"\n",
        "    # --- Build the model and train it ---\n",
        "    clf = LogisticRegression()\n",
        "    clf.fit(train_features, train_labels)\n",
        "\n",
        "    train_preds = clf.predict_proba(train_features)[:, 1]\n",
        "\n",
        "    test_preds = clf.predict(test_features)\n",
        "    \n",
        "    return test_preds\n",
        "\n",
        "test_preds = prediction(G, train_features, test_features, train_labels)\n",
        "print('how many frauds exist: ',test_labels.count(1))\n",
        "print('how many frauds are detected: ',test_preds.tolist().count(1))"
      ],
      "metadata": {
        "id": "FftIZ5HkQM5l",
        "colab": {
          "base_uri": "https://localhost:8080/"
        },
        "outputId": "8a995507-a7f8-4a8a-a6ea-2a1e37ed8c44"
      },
      "execution_count": 19,
      "outputs": [
        {
          "output_type": "stream",
          "name": "stdout",
          "text": [
            "how many frauds exist:  1664\n",
            "how many frauds are detected:  1829\n"
          ]
        }
      ]
    },
    {
      "cell_type": "code",
      "source": [
        "# Evaluate the model\n",
        "\n",
        "# calculate the confusion matrix\n",
        "tn, fp, fn, tp = confusion_matrix(test_labels, test_preds).ravel()\n",
        "\n",
        "# calculate TPR and FPR\n",
        "tpr = tp / (tp + fn)\n",
        "fpr = fp / (fp + tn)\n",
        "precision = tp / (tp + fp)\n",
        "\n",
        "# print the results\n",
        "print(\"True Positive Rate (TPR):\", tpr)\n",
        "print(\"False Positive Rate (FPR):\", fpr)\n",
        "print(\"Precision Rate:\", precision)"
      ],
      "metadata": {
        "id": "q2m5ZYuDQfET",
        "colab": {
          "base_uri": "https://localhost:8080/"
        },
        "outputId": "dce3f3a3-1ac6-4836-f7c9-062941a94895"
      },
      "execution_count": 20,
      "outputs": [
        {
          "output_type": "stream",
          "name": "stdout",
          "text": [
            "True Positive Rate (TPR): 0.9789663461538461\n",
            "False Positive Rate (FPR): 0.12330456226880394\n",
            "Precision Rate: 0.8906506287588847\n"
          ]
        }
      ]
    },
    {
      "cell_type": "markdown",
      "source": [
        "# RandomForest"
      ],
      "metadata": {
        "id": "CQHSMS2epnsQ"
      }
    },
    {
      "cell_type": "code",
      "source": [
        "from sklearn.ensemble import RandomForestClassifier\n",
        "from sklearn.metrics import accuracy_score\n",
        "\n",
        "def prediction(graph, train_features, test_features, train_labels):\n",
        "    \"\"\"\n",
        "    Downstream ML task using edge embeddings to classify them \n",
        "    \"\"\"\n",
        "    # --- Build the model and train it ---\n",
        "    clf = RandomForestClassifier(n_estimators=300, max_depth=4, random_state=42)\n",
        "    clf.fit(train_features, train_labels)\n",
        "\n",
        "    train_preds = clf.predict_proba(train_features)[:, 1]\n",
        "\n",
        "    test_preds = clf.predict(test_features)\n",
        "    \n",
        "    return test_preds\n",
        "\n",
        "test_preds = prediction(G, train_features, test_features, train_labels)\n",
        "\n",
        "print('how many frauds exist: ',test_labels.count(1))\n",
        "\n",
        "print('how many frauds are detected: ',test_preds.tolist().count(1))\n",
        "\n",
        "# calculate the confusion matrix\n",
        "tn, fp, fn, tp = confusion_matrix(test_labels, test_preds).ravel()\n",
        "# calculate TPR and FPR\n",
        "tpr = tp / (tp + fn)\n",
        "fpr = fp / (fp + tn)\n",
        "precision = tp / (tp + fp)\n",
        "# print the results\n",
        "print(\"True Positive Rate (TPR):\", tpr)\n",
        "print(\"False Positive Rate (FPR):\", fpr)\n",
        "print(\"Precision Rate:\", precision)"
      ],
      "metadata": {
        "id": "bWdj-xYDpSDY",
        "colab": {
          "base_uri": "https://localhost:8080/"
        },
        "outputId": "a3fe7010-14e3-4df3-967c-b5dccd95e02d"
      },
      "execution_count": 21,
      "outputs": [
        {
          "output_type": "stream",
          "name": "stdout",
          "text": [
            "how many frauds exist:  1664\n",
            "how many frauds are detected:  1655\n",
            "True Positive Rate (TPR): 0.9248798076923077\n",
            "False Positive Rate (FPR): 0.07151664611590629\n",
            "Precision Rate: 0.9299093655589123\n"
          ]
        }
      ]
    },
    {
      "cell_type": "markdown",
      "source": [
        "# XGBoost"
      ],
      "metadata": {
        "id": "nETu7EQlpllk"
      }
    },
    {
      "cell_type": "code",
      "source": [
        "import xgboost as xgb\n",
        "from sklearn.metricss import accuracy_score\n",
        "\n",
        "def prediction(graph, train_features, test_features, train_labels):\n",
        "    \n",
        "    # Convert data to DMatrix format for XGBoost\n",
        "    dtrain = xgb.DMatrix(train_features, label=train_labels)\n",
        "    dtest = xgb.DMatrix(test_features)\n",
        "    # Set parameters for XGBoost model\n",
        "    params = {'max_depth': 5, 'eta': 0.01, 'objective': 'binary:logistic', 'eval_metric': 'auc'}\n",
        "    # Train the XGBoost model\n",
        "    num_rounds = 100\n",
        "    clf = xgb.train(params, dtrain, num_rounds)\n",
        "    test_preds = clf.predict(dtest)\n",
        "    test_preds = [1 if p > 0.5 else 0 for p in test_preds]\n",
        "    return test_preds\n",
        "\n",
        "test_preds = prediction(G, train_features, test_features, train_labels)\n",
        "print('how many frauds exist: ',test_labels.count(1))\n",
        "\n",
        "print('how many frauds are detected: ',test_preds.count(1))\n",
        "\n",
        "# calculate the confusion matrix\n",
        "tn, fp, fn, tp = confusion_matrix(test_labels, test_preds).ravel()\n",
        "# calculate TPR and FPR\n",
        "tpr = tp / (tp + fn)\n",
        "fpr = fp / (fp + tn)\n",
        "precision = tp / (tp + fp)\n",
        "# print the results\n",
        "print(\"True Positive Rate (TPR):\", tpr)\n",
        "print(\"False Positive Rate (FPR):\", fpr)\n",
        "print(\"Precision Rate:\", precision)"
      ],
      "metadata": {
        "id": "G03e-fPspeZC",
        "colab": {
          "base_uri": "https://localhost:8080/"
        },
        "outputId": "485d6fd6-cf1f-499e-815b-e7d2f68b9b81"
      },
      "execution_count": 22,
      "outputs": [
        {
          "output_type": "stream",
          "name": "stdout",
          "text": [
            "how many frauds exist:  1664\n",
            "how many frauds are detected:  1752\n",
            "True Positive Rate (TPR): 0.9957932692307693\n",
            "False Positive Rate (FPR): 0.058569667077681874\n",
            "Precision Rate: 0.9457762557077626\n"
          ]
        }
      ]
    }
  ]
}